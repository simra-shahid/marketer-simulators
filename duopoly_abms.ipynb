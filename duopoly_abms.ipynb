{
 "cells": [
  {
   "cell_type": "code",
   "execution_count": 1,
   "id": "9487db52",
   "metadata": {},
   "outputs": [],
   "source": [
    "import networkx as nx\n",
    "import numpy as np\n",
    "from numpy.random import normal\n",
    "from collections import defaultdict\n",
    "import matplotlib.pyplot as plt\n",
    "import os\n",
    "from tqdm import tqdm "
   ]
  },
  {
   "cell_type": "code",
   "execution_count": 2,
   "id": "3a4311f9",
   "metadata": {},
   "outputs": [],
   "source": [
    "class Product:\n",
    "    \n",
    "    def __init__(self, product_name=\"a\", mean=0.5, std=0.167): \n",
    "        self.name = product_name\n",
    "        self.quality = normal(mean, std) "
   ]
  },
  {
   "cell_type": "code",
   "execution_count": 3,
   "id": "714f09c8",
   "metadata": {},
   "outputs": [],
   "source": [
    "class Consumer:\n",
    "    \n",
    "    def __init__(self, consumer_id, products):\n",
    "\n",
    "        self.products = products\n",
    "        \n",
    "        #personal attributes\n",
    "        self.consumer_id = consumer_id \n",
    "        self.follower_tendency = normal(0.5, 0.167) \n",
    "        \n",
    "        #product attributes \n",
    "        self.quality_perceived = {product.name : product.quality for product in self.products}\n",
    "        self.minimum_satisfaction_quality = {product.name : 0.5 for product in self.products} #default\n",
    "        self.purchased = {product.name : False for product in self.products}\n",
    "        \n",
    "        self.utility = {product.name : 0.0 for product in self.products} \n",
    "        self.purchase_threshold = 0.5\n",
    "        \n",
    "    \n",
    "    def update_consumer_belief(self, product, neighbours):\n",
    "        \n",
    "        Q_i   = self.quality_perceived[product]\n",
    "        Q_des = self.minimum_satisfaction_quality[product]\n",
    "        product_satisfaction = Q_i - Q_des\n",
    "        \n",
    "        N_i = 0\n",
    "        N_p = 0\n",
    "                \n",
    "        for neighbour in neighbours:\n",
    "            if neighbour.purchased[product]==True:\n",
    "                N_i+=1\n",
    "            \n",
    "            for prod in self.products: \n",
    "                if neighbour.purchased[prod.name]==True:\n",
    "                    N_p+=1\n",
    "                    \n",
    "        utility = (1 - self.follower_tendency) * product_satisfaction + self.follower_tendency * (N_i/(N_p+1))\n",
    "    \n",
    "        self.utility[product] = utility \n",
    "        \n",
    "        \n",
    "        ''' Purchase product only if it utility is above some threshold '''\n",
    "        if self.purchased[product]!=True and utility >= self.purchase_threshold: \n",
    "            self.purchased[product] = True\n",
    "    \n"
   ]
  },
  {
   "cell_type": "code",
   "execution_count": 4,
   "id": "5ff0933a",
   "metadata": {},
   "outputs": [],
   "source": [
    "class Social_Network:\n",
    "    \n",
    "    def __init__(self, number_of_consumers, products, market_share):\n",
    "        \n",
    "        self.products = products\n",
    "        \n",
    "        self.number_of_consumers = number_of_consumers\n",
    "        self.connectedness_k =  10\n",
    "        self.consumer_edge_probability = 0.2\n",
    "        \n",
    "        self.market_share = market_share \n",
    "        \n",
    "        self.seed = 123\n",
    "        \n",
    "        self.make_social_network()\n",
    "    \n",
    "    def make_social_network(self): \n",
    "        \n",
    "        self.social_network = nx.watts_strogatz_graph(self.number_of_consumers, \n",
    "                                                      k = self.connectedness_k,\n",
    "                                                      p = self.consumer_edge_probability, \n",
    "                                                      seed = self.seed)  \n",
    "        \n",
    "        \n",
    "        self.neighbours = defaultdict(list)\n",
    "        for u, v in self.social_network.edges:\n",
    "            self.neighbours[u].append(v)\n",
    "            \n",
    "        self.consumer_directory = defaultdict()\n",
    "        \n",
    "        for consumer_id in self.social_network.nodes:\n",
    "            \n",
    "            consumer = Consumer(consumer_id, self.products)            \n",
    "            self.consumer_directory[consumer_id] = consumer\n",
    "            \n",
    "        for consumer_id in self.social_network.nodes:\n",
    "            \n",
    "            neighbours = self.neighbours[consumer_id]\n",
    "            self.neighbours[consumer_id] = [self.consumer_directory[n] for n in neighbours]\n",
    "            \n",
    "            product = np.random.choice(self.products, 1, p = self.market_share)\n",
    "            self.consumer_directory[consumer_id].purchased[product[0].name] = True\n",
    "        \n",
    "            \n",
    "    def update_social_network(self): \n",
    "        \n",
    "        for consumer_id, consumer in self.consumer_directory.items():\n",
    "            for product in self.products: \n",
    "                consumer.update_consumer_belief(product.name, self.neighbours[consumer_id])\n",
    "        \n",
    "    def get_summary(self):\n",
    "        \n",
    "        utility = defaultdict(list)\n",
    "        purchases = defaultdict(list)\n",
    "        for consumer_id, consumer in self.consumer_directory.items():\n",
    "            for product in self.products: \n",
    "                utility[product.name].append(consumer.utility[product.name])\n",
    "                purchases[product.name].append(1 if consumer.purchased[product.name] else 0)\n",
    "         \n",
    "        print()\n",
    "        for product in self.products: \n",
    "            print(\"Product: {}, Utility: {}, Purchases: {}\".format(product.name, np.mean(utility[product.name]), np.sum(purchases[product.name])))\n",
    "        print()\n",
    "        \n",
    "    def save_social_network(self, timestep=0): \n",
    "        \n",
    "        plt.figure(figsize =(10, 7))\n",
    "  \n",
    "        color = {'Canva': 'blue',\n",
    "                 'CCX': 'red'}\n",
    "    \n",
    "        node_color = ['red' if self.consumer_directory[consumer_id].purchased['CCX'] else 'blue' for consumer_id in self.social_network.nodes]\n",
    "\n",
    "        nx.draw_circular(self.social_network,  node_color = node_color, node_size=3)\n",
    "\n",
    "        plt.title('Simulation Time Step t-{}'.format(str(timestep)))\n",
    "        #plt.tight_layout();\n",
    "                \n",
    "        try:\n",
    "            os.mkdir('simulations')\n",
    "        except:\n",
    "            pass\n",
    "            #print(\"Folder already exists\")\n",
    "            \n",
    "        plt.savefig('simulations/t_{}.png'.format(timestep))\n",
    "        \n",
    "        \n",
    "        "
   ]
  },
  {
   "cell_type": "code",
   "execution_count": 5,
   "id": "674404e7",
   "metadata": {},
   "outputs": [],
   "source": [
    "def simulate(number_of_consumers=30, num_of_iterations=5, market_share=None, products=None): \n",
    "    \n",
    "    for iteration in tqdm(range(num_of_iterations)):\n",
    "        \n",
    "        if iteration==0: \n",
    "            social_network = Social_Network(number_of_consumers, \n",
    "                                            products = products, \n",
    "                                            market_share = market_share\n",
    "                                            )\n",
    "            #social_network.save_social_network(iteration) \n",
    "            social_network.get_summary()\n",
    "        \n",
    "        else:\n",
    "            social_network.update_social_network()\n",
    "            \n",
    "            if iteration==num_of_iterations-1: \n",
    "                #social_network.save_social_network(iteration)\n",
    "                social_network.get_summary()\n",
    "            \n",
    "    return social_network\n",
    "        "
   ]
  },
  {
   "cell_type": "code",
   "execution_count": 35,
   "id": "80e8816d",
   "metadata": {},
   "outputs": [
    {
     "name": "stderr",
     "output_type": "stream",
     "text": [
      "  0%|          | 1/200 [00:05<19:31,  5.89s/it]"
     ]
    },
    {
     "name": "stdout",
     "output_type": "stream",
     "text": [
      "\n",
      "Product: CCX, Utility: 0.0, Purchases: 49935\n",
      "Product: Canva, Utility: 0.0, Purchases: 50065\n",
      "\n"
     ]
    },
    {
     "name": "stderr",
     "output_type": "stream",
     "text": [
      "100%|██████████| 200/200 [02:02<00:00,  1.64it/s]"
     ]
    },
    {
     "name": "stdout",
     "output_type": "stream",
     "text": [
      "\n",
      "Product: CCX, Utility: 0.30905090956611464, Purchases: 52434\n",
      "Product: Canva, Utility: 0.20566988265546618, Purchases: 51007\n",
      "\n"
     ]
    },
    {
     "name": "stderr",
     "output_type": "stream",
     "text": [
      "\n"
     ]
    }
   ],
   "source": [
    "#When both have same Quality distributions and Market Share\n",
    "products = [Product(product_name='CCX'), Product(product_name='Canva')] #Assuming same quality distribution \n",
    "\n",
    "social_network = simulate(number_of_consumers=100000, \n",
    "                          num_of_iterations=200, \n",
    "                          market_share = [0.5, 0.5], \n",
    "                          products = products)"
   ]
  },
  {
   "cell_type": "code",
   "execution_count": 9,
   "id": "3ff9910b",
   "metadata": {},
   "outputs": [
    {
     "name": "stderr",
     "output_type": "stream",
     "text": [
      "  0%|          | 1/200 [00:05<19:46,  5.96s/it]"
     ]
    },
    {
     "name": "stdout",
     "output_type": "stream",
     "text": [
      "\n",
      "Product: CCX, Utility: 0.0, Purchases: 50193\n",
      "Product: Canva, Utility: 0.0, Purchases: 49807\n",
      "\n"
     ]
    },
    {
     "name": "stderr",
     "output_type": "stream",
     "text": [
      "100%|██████████| 200/200 [01:55<00:00,  1.74it/s]"
     ]
    },
    {
     "name": "stdout",
     "output_type": "stream",
     "text": [
      "\n",
      "Product: CCX, Utility: 0.27422158635690186, Purchases: 51979\n",
      "Product: Canva, Utility: 0.27731930770978275, Purchases: 51577\n",
      "\n"
     ]
    },
    {
     "name": "stderr",
     "output_type": "stream",
     "text": [
      "\n"
     ]
    }
   ],
   "source": [
    "#When both have different Quality distributions and same Market Share\n",
    "products = [Product('CCX', 0.5, 0.167), Product('Canva', 0.7, 0.1)] \n",
    "\n",
    "social_network = simulate(number_of_consumers=100000, \n",
    "                          num_of_iterations=200, \n",
    "                          market_share = [0.5, 0.5], \n",
    "                          products = products)"
   ]
  },
  {
   "cell_type": "code",
   "execution_count": 6,
   "id": "0305936c",
   "metadata": {},
   "outputs": [
    {
     "name": "stderr",
     "output_type": "stream",
     "text": [
      "  0%|          | 1/200 [00:05<18:52,  5.69s/it]"
     ]
    },
    {
     "name": "stdout",
     "output_type": "stream",
     "text": [
      "\n",
      "Product: CCX, Utility: 0.0, Purchases: 29908\n",
      "Product: Canva, Utility: 0.0, Purchases: 70092\n",
      "\n"
     ]
    },
    {
     "name": "stderr",
     "output_type": "stream",
     "text": [
      "100%|██████████| 200/200 [01:59<00:00,  1.67it/s]"
     ]
    },
    {
     "name": "stdout",
     "output_type": "stream",
     "text": [
      "\n",
      "Product: CCX, Utility: 0.1649592980504369, Purchases: 30212\n",
      "Product: Canva, Utility: 0.42166608728276334, Purchases: 76632\n",
      "\n"
     ]
    },
    {
     "name": "stderr",
     "output_type": "stream",
     "text": [
      "\n"
     ]
    }
   ],
   "source": [
    "#When both have same Quality distributions and different Market Share\n",
    "products = [Product(product_name='CCX'), Product(product_name='Canva')] #Assuming same quality distribution \n",
    "\n",
    "social_network = simulate(number_of_consumers=100000, \n",
    "                          num_of_iterations=200, \n",
    "                          market_share = [0.30, 0.70], \n",
    "                          products = products)"
   ]
  },
  {
   "cell_type": "code",
   "execution_count": 8,
   "id": "976731b3",
   "metadata": {},
   "outputs": [
    {
     "name": "stderr",
     "output_type": "stream",
     "text": [
      "  0%|          | 1/200 [00:05<18:23,  5.55s/it]"
     ]
    },
    {
     "name": "stdout",
     "output_type": "stream",
     "text": [
      "\n",
      "Product: CCX, Utility: 0.0, Purchases: 30016\n",
      "Product: Canva, Utility: 0.0, Purchases: 69984\n",
      "\n"
     ]
    },
    {
     "name": "stderr",
     "output_type": "stream",
     "text": [
      "100%|██████████| 200/200 [01:56<00:00,  1.71it/s]"
     ]
    },
    {
     "name": "stdout",
     "output_type": "stream",
     "text": [
      "\n",
      "Product: CCX, Utility: 0.17122121413096883, Purchases: 30332\n",
      "Product: Canva, Utility: 0.3661432075249108, Purchases: 74020\n",
      "\n"
     ]
    },
    {
     "name": "stderr",
     "output_type": "stream",
     "text": [
      "\n"
     ]
    }
   ],
   "source": [
    "#When both have different Quality distributions and different Market Share\n",
    "products = [Product('CCX', 0.5, 0.167), Product('Canva', 0.7, 0.1)] \n",
    "\n",
    "social_network = simulate(number_of_consumers=100000, \n",
    "                          num_of_iterations=200, \n",
    "                          market_share = [0.30, 0.70], \n",
    "                          products = products)"
   ]
  },
  {
   "cell_type": "raw",
   "id": "efacd88b",
   "metadata": {},
   "source": [
    "\n"
   ]
  }
 ],
 "metadata": {
  "kernelspec": {
   "display_name": "causal_env",
   "language": "python",
   "name": "causal_env"
  },
  "language_info": {
   "codemirror_mode": {
    "name": "ipython",
    "version": 3
   },
   "file_extension": ".py",
   "mimetype": "text/x-python",
   "name": "python",
   "nbconvert_exporter": "python",
   "pygments_lexer": "ipython3",
   "version": "3.7.3"
  }
 },
 "nbformat": 4,
 "nbformat_minor": 5
}
